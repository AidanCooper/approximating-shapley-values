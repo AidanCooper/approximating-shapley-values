{
 "cells": [
  {
   "attachments": {},
   "cell_type": "markdown",
   "id": "e5c0390c",
   "metadata": {},
   "source": [
    "# Approximating Shapley Values"
   ]
  },
  {
   "cell_type": "code",
   "execution_count": 1,
   "id": "3fafa02e",
   "metadata": {},
   "outputs": [],
   "source": [
    "import matplotlib.pyplot as plt\n",
    "import warnings\n",
    "\n",
    "plt.style.use(\"style.mplstyle\")\n",
    "warnings.filterwarnings('ignore')"
   ]
  },
  {
   "attachments": {},
   "cell_type": "markdown",
   "id": "9411f49e",
   "metadata": {},
   "source": [
    "## Load and Prepare Data"
   ]
  },
  {
   "cell_type": "code",
   "execution_count": 2,
   "id": "4458fa4f",
   "metadata": {},
   "outputs": [
    {
     "name": "stdout",
     "output_type": "stream",
     "text": [
      "506 rows\n",
      "     % working class  number of rooms  NOX concentration        y\n",
      "329            14.68            6.333              0.460  22600.0\n",
      "371            19.06            6.216              0.631  50000.0\n",
      "219            21.00            6.373              0.550  23000.0\n",
      "403            39.54            5.349              0.693   8300.0\n",
      "78             24.68            6.232              0.437  21200.0\n"
     ]
    }
   ],
   "source": [
    "import pandas as pd\n",
    "\n",
    "features = [\"% working class\", \"number of rooms\", \"NOX concentration\"]\n",
    "df = pd.read_csv(\"data.csv\")\n",
    "y = df[\"y\"].values\n",
    "print(f\"{len(y)} rows\")\n",
    "print(df[features + [\"y\"]].sample(5, random_state=0))\n",
    "\n",
    "# returns:\n",
    "# 506 rows\n",
    "#      % working class  number of rooms  NOX concentration        y\n",
    "# 329            14.68            6.333              0.460  22600.0\n",
    "# 371            19.06            6.216              0.631  50000.0\n",
    "# 219            21.00            6.373              0.550  23000.0\n",
    "# 403            39.54            5.349              0.693   8300.0\n",
    "# 78             24.68            6.232              0.437  21200.0"
   ]
  },
  {
   "attachments": {},
   "cell_type": "markdown",
   "id": "d5728ba9",
   "metadata": {},
   "source": [
    "## Train Model"
   ]
  },
  {
   "cell_type": "code",
   "execution_count": 3,
   "id": "29071d8b",
   "metadata": {},
   "outputs": [],
   "source": [
    "from sklearn.ensemble import RandomForestRegressor\n",
    "\n",
    "X = df[features]\n",
    "model = RandomForestRegressor(random_state=0).fit(X, y)\n",
    "y_pred = m.predict(X)"
   ]
  },
  {
   "attachments": {},
   "cell_type": "markdown",
   "id": "b700f6e9",
   "metadata": {},
   "source": [
    "## Approximate Shapley Values"
   ]
  },
  {
   "cell_type": "code",
   "execution_count": null,
   "id": "d1313866",
   "metadata": {},
   "outputs": [],
   "source": [
    "def marginalised_prediction(row, m=model, X=X, missing=[]):\n",
    "    \"\"\"Generate a prediction for `row` using model `m`, replacing\n",
    "    features in `missing` by sampling randomly from `X`.\"\"\"\n",
    "    instance = row.copy()\n",
    "    for feature in missing:\n",
    "        instance[feature] = np.random.choice(X[feature])\n",
    "    return m.predict([instance])"
   ]
  },
  {
   "cell_type": "code",
   "execution_count": 4,
   "id": "ab45f6e4",
   "metadata": {},
   "outputs": [],
   "source": [
    "import numpy as np\n",
    "\n",
    "def approximate_prediction(row, m=model, X=X, missing=[], n=100):\n",
    "    \"\"\"Average the results returned by `marginalised_prediction()`\n",
    "    over `n` predictions.\"\"\"\n",
    "    predictions = []\n",
    "    for _ in range(n):\n",
    "        predictions.append(marginalised_prediction(m, X, row, missing))\n",
    "    return np.mean(predictions)"
   ]
  },
  {
   "cell_type": "code",
   "execution_count": 5,
   "id": "490c91aa",
   "metadata": {},
   "outputs": [],
   "source": [
    "predictions = {}\n",
    "\n",
    "# predictions with no features\n",
    "predictions[\"none\"] = X.apply(\n",
    "    lambda row: approximate_prediction(\n",
    "        row,\n",
    "        missing=features\n",
    "    ),\n",
    "    axis=1\n",
    ")\n",
    "\n",
    "# predictions with one feature\n",
    "for feat in features:\n",
    "    predictions[feat] = X.apply(\n",
    "        lambda row: approximate_prediction(\n",
    "            row,\n",
    "            missing=[c for c in features if c != feat]\n",
    "        ),\n",
    "        axis=1\n",
    "    )\n",
    "    \n",
    "# predictions with two features\n",
    "for i, feat1 in enumerate(features):\n",
    "    for feat2 in features[i+1:]:\n",
    "        predictions[f\"{feat1}, {feat2}\"] = X.apply(\n",
    "            lambda row: approximate_prediction(\n",
    "                row,\n",
    "                missing=[c for c in features if c not in [feat1, feat2]]\n",
    "            ),\n",
    "            axis=1\n",
    "        )\n",
    "        \n",
    "# predictions with all features\n",
    "predictions[\"all\"] = m.predict(X)"
   ]
  },
  {
   "cell_type": "code",
   "execution_count": 6,
   "id": "bd4f9b32",
   "metadata": {},
   "outputs": [],
   "source": [
    "sv_pwc = 1/3 * (predictions[\"% working class\"] - \n",
    "                predictions[\"none\"]) +\\\n",
    "         1/6 * (predictions[\"% working class, number of rooms\"] - \n",
    "                predictions[\"number of rooms\"]) +\\\n",
    "         1/6 * (predictions[\"% working class, NOX concentration\"] - \n",
    "                predictions[\"NOX concentration\"]) +\\\n",
    "         1/3 * (predictions[\"all\"] - \n",
    "                predictions[\"number of rooms, NOX concentration\"])\n",
    "\n",
    "sv_nor = 1/3 * (predictions[\"number of rooms\"] - \n",
    "                predictions[\"none\"]) +\\\n",
    "         1/6 * (predictions[\"% working class, number of rooms\"] - \n",
    "                predictions[\"% working class\"]) +\\\n",
    "         1/6 * (predictions[\"number of rooms, NOX concentration\"] - \n",
    "                predictions[\"NOX concentration\"]) +\\\n",
    "         1/3 * (predictions[\"all\"] - \n",
    "                predictions[\"% working class, NOX concentration\"])\n",
    "\n",
    "sv_nc  = 1/3 * (predictions[\"NOX concentration\"] - \n",
    "                predictions[\"none\"]) +\\\n",
    "         1/6 * (predictions[\"% working class, NOX concentration\"] - \n",
    "                predictions[\"% working class\"]) +\\\n",
    "         1/6 * (predictions[\"number of rooms, NOX concentration\"] - \n",
    "                predictions[\"number of rooms\"]) +\\\n",
    "         1/3 * (predictions[\"all\"] - \n",
    "                predictions[\"% working class, number of rooms\"])"
   ]
  },
  {
   "cell_type": "code",
   "execution_count": 7,
   "id": "a5a66fb2",
   "metadata": {},
   "outputs": [
    {
     "name": "stdout",
     "output_type": "stream",
     "text": [
      "Mean absolute shapley values:\n",
      "% working class  : 4,051.3\n",
      "number of rooms  : 2,695.0\n",
      "NOX concentration: 1,289.9\n"
     ]
    }
   ],
   "source": [
    "print(\"Mean absolute shapley values:\")\n",
    "print(f\"% working class  : {np.abs(sv_pwc).mean():,.1f}\")\n",
    "print(f\"number of rooms  : {np.abs(sv_nor).mean():,.1f}\")\n",
    "print(f\"NOX concentration: {np.abs(sv_nc).mean():,.1f}\")"
   ]
  },
  {
   "cell_type": "code",
   "execution_count": null,
   "id": "07c7b76c",
   "metadata": {},
   "outputs": [],
   "source": []
  }
 ],
 "metadata": {
  "kernelspec": {
   "display_name": "Python 3 (ipykernel)",
   "language": "python",
   "name": "python3"
  },
  "language_info": {
   "codemirror_mode": {
    "name": "ipython",
    "version": 3
   },
   "file_extension": ".py",
   "mimetype": "text/x-python",
   "name": "python",
   "nbconvert_exporter": "python",
   "pygments_lexer": "ipython3",
   "version": "3.10.10"
  }
 },
 "nbformat": 4,
 "nbformat_minor": 5
}
